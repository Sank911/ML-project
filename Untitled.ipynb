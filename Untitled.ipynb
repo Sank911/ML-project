{
 "cells": [
  {
   "cell_type": "code",
   "execution_count": 5,
   "id": "b63cb966",
   "metadata": {},
   "outputs": [
    {
     "name": "stdout",
     "output_type": "stream",
     "text": [
      " * Serving Flask app \"__main__\" (lazy loading)\n",
      " * Environment: production\n",
      "   WARNING: This is a development server. Do not use it in a production deployment.\n",
      "   Use a production WSGI server instead.\n",
      " * Debug mode: on\n"
     ]
    },
    {
     "name": "stderr",
     "output_type": "stream",
     "text": [
      " * Restarting with windowsapi reloader\n"
     ]
    },
    {
     "ename": "SystemExit",
     "evalue": "1",
     "output_type": "error",
     "traceback": [
      "An exception has occurred, use %tb to see the full traceback.\n",
      "\u001b[1;31mSystemExit\u001b[0m\u001b[1;31m:\u001b[0m 1\n"
     ]
    }
   ],
   "source": [
    "from flask import Flask, request, render_template,url_for,request,jsonify\n",
    "import sklearn\n",
    "import pickle\n",
    "import pandas as pd\n",
    "import joblib\n",
    "\n",
    "app = Flask(__name__)\n",
    "\n",
    "@app.route(\"/\")\n",
    "def home():\n",
    "    return render_template(\"index.html\")\n",
    "\n",
    "#predict function\n",
    "def ValuePredictor(to_predict_list):\n",
    "    to_predict=np.array(to_predict_list).reshape(1,12)\n",
    "    loaded_model=pickle.load(open('model.pkl','rb'))\n",
    "    result=loaded_model.predict(to_predict)\n",
    "    return result[0]\n",
    "\n",
    "#output page and logic\n",
    "\n",
    "@app.route('/result',methods=['POST'])\n",
    "def result():\n",
    "    if request.method == 'POST':\n",
    "        \n",
    "        to_predict_list=request.form.to_dict()\n",
    "        to_predict_list=list(to_predict_list.values())\n",
    "        to_predict_list=list(map(int,to_predict_list))\n",
    "        result=ValuePredictor(to_predict_list)\n",
    "        if int(result)==1:\n",
    "            prediction='income more than 50k'\n",
    "        else:\n",
    "            prediction='income less than 50k'\n",
    "            return render_template('result.html',prediction=prediction)\n",
    "        \n",
    "if __name__ == \"__main__\":\n",
    "    app.run(debug= True)\n",
    "    app.config['Templates auto reload']=True"
   ]
  },
  {
   "cell_type": "code",
   "execution_count": 4,
   "id": "b9a49045",
   "metadata": {},
   "outputs": [],
   "source": [
    "import warnings\n",
    "warnings.filterwarnings('ignore')"
   ]
  },
  {
   "cell_type": "code",
   "execution_count": null,
   "id": "f7e5e77b",
   "metadata": {},
   "outputs": [],
   "source": []
  }
 ],
 "metadata": {
  "kernelspec": {
   "display_name": "Python 3",
   "language": "python",
   "name": "python3"
  },
  "language_info": {
   "codemirror_mode": {
    "name": "ipython",
    "version": 3
   },
   "file_extension": ".py",
   "mimetype": "text/x-python",
   "name": "python",
   "nbconvert_exporter": "python",
   "pygments_lexer": "ipython3",
   "version": "3.8.8"
  }
 },
 "nbformat": 4,
 "nbformat_minor": 5
}
